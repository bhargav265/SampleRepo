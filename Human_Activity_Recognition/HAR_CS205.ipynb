{
 "cells": [
  {
   "cell_type": "code",
   "execution_count": 1,
   "metadata": {},
   "outputs": [
    {
     "name": "stderr",
     "output_type": "stream",
     "text": [
      "d:\\anaconda\\lib\\site-packages\\sklearn\\cross_validation.py:41: DeprecationWarning: This module was deprecated in version 0.18 in favor of the model_selection module into which all the refactored classes and functions are moved. Also note that the interface of the new CV iterators are different from that of this module. This module will be removed in 0.20.\n",
      "  \"This module will be removed in 0.20.\", DeprecationWarning)\n"
     ]
    }
   ],
   "source": [
    "import pandas as pd\n",
    "import numpy as np\n",
    "import os\n",
    "from sklearn.tree import DecisionTreeClassifier\n",
    "from sklearn.datasets import load_iris\n",
    "from sklearn.model_selection import cross_val_score\n",
    "import matplotlib.pyplot as plt\n",
    "from xgboost.sklearn import XGBClassifier\n",
    "from sklearn.linear_model import LogisticRegression\n",
    "from sklearn.model_selection import KFold"
   ]
  },
  {
   "cell_type": "code",
   "execution_count": 6,
   "metadata": {},
   "outputs": [],
   "source": [
    "def process_avg_acceleration(df):\n",
    "    i = 0\n",
    "    avg_x_full = []\n",
    "    avg_y_full = []\n",
    "    avg_z_full = []\n",
    "    label = []\n",
    "    while i < len(df[0]):\n",
    "        max_window = df[0][i] + 2000\n",
    "        min_window = df[0][i]\n",
    "        if i != 0:                                                                 #handling overlap\n",
    "            min_window -= 1000\n",
    "            max_window -= 1000\n",
    "            i -= int(count/2)\n",
    "        avg_x = [df[1][i]]\n",
    "        avg_y = [df[2][i]]\n",
    "        avg_z = [df[3][i]]\n",
    "        count = 0\n",
    "        while min_window < max_window:\n",
    "            i += 1\n",
    "            count += 1\n",
    "            try:\n",
    "                avg_x.append(df[1][i])\n",
    "                avg_y.append(df[2][i])\n",
    "                avg_z.append(df[3][i])\n",
    "                min_window = df[0][i]\n",
    "            except KeyError:\n",
    "                break\n",
    "        avg_x_full.append(sum(avg_x)/len(avg_x))\n",
    "        avg_y_full.append(sum(avg_y)/len(avg_y))\n",
    "        avg_z_full.append(sum(avg_z)/len(avg_z))\n",
    "        label.append(df[5][1])\n",
    "        \n",
    "    return pd.DataFrame({'avg_acc_x' : avg_x_full, 'avg_acc_y' : avg_y_full, 'avg_acc_z' : avg_z_full})"
   ]
  },
  {
   "cell_type": "code",
   "execution_count": 7,
   "metadata": {},
   "outputs": [],
   "source": [
    "def process_avg_gyroscope(df):\n",
    "    i = 0\n",
    "    avg_x_full = []\n",
    "    avg_y_full = []\n",
    "    avg_z_full = []\n",
    "    label = []\n",
    "    while i < len(df[0]):\n",
    "        max_window = df[0][i] + 2000\n",
    "        min_window = df[0][i]\n",
    "        if i != 0:                                                                 #handling overlap\n",
    "            min_window -= 1000\n",
    "            max_window -= 1000\n",
    "            i -= int(count/2)\n",
    "        avg_x = [df[1][i]]\n",
    "        avg_y = [df[2][i]]\n",
    "        avg_z = [df[3][i]]\n",
    "        count = 0\n",
    "        while min_window < max_window:\n",
    "            i += 1\n",
    "            count += 1\n",
    "            try:\n",
    "                avg_x.append(df[1][i])\n",
    "                avg_y.append(df[2][i])\n",
    "                avg_z.append(df[3][i])\n",
    "                min_window = df[0][i]\n",
    "            except KeyError:\n",
    "                break\n",
    "        avg_x_full.append(sum(avg_x)/len(avg_x))\n",
    "        avg_y_full.append(sum(avg_y)/len(avg_y))\n",
    "        avg_z_full.append(sum(avg_z)/len(avg_z))\n",
    "        label.append(df[5][1])\n",
    "        \n",
    "    return pd.DataFrame({'avg_gyroscope_x' : avg_x_full, 'avg_gyroscope_y' : avg_y_full, 'avg_gyroscope_z' : avg_z_full, 'label' : label})"
   ]
  },
  {
   "cell_type": "code",
   "execution_count": 8,
   "metadata": {},
   "outputs": [
    {
     "name": "stdout",
     "output_type": "stream",
     "text": [
      "Sessions_new/14442D57F7E1B88_Thu_Feb_08_00-16_2018_PST\\data\n",
      "processing : Sessions_new\\14442D57F7E1B88_Thu_Feb_08_00-16_2018_PST\\data\\1_android.sensor.accelerometer.data.csv.gz\n",
      "Sessions_new/14442D57F7E1B88_Thu_Feb_08_00-18_2018_PST\\data\n",
      "processing : Sessions_new\\14442D57F7E1B88_Thu_Feb_08_00-18_2018_PST\\data\\1_android.sensor.accelerometer.data.csv.gz\n",
      "processing : Sessions_new\\14442D57F7E1B88_Thu_Feb_08_00-18_2018_PST\\data\\4_android.sensor.gyroscope.data.csv.gz\n",
      "Sessions_new/14442D57F7E1B88_Thu_Feb_08_00-25_2018_PST\\data\n",
      "processing : Sessions_new\\14442D57F7E1B88_Thu_Feb_08_00-25_2018_PST\\data\\1_android.sensor.accelerometer.data.csv.gz\n",
      "processing : Sessions_new\\14442D57F7E1B88_Thu_Feb_08_00-25_2018_PST\\data\\4_android.sensor.gyroscope.data.csv.gz\n",
      "Sessions_new/14442D57F7E1B88_Thu_Feb_08_00-31_2018_PST\\data\n",
      "processing : Sessions_new\\14442D57F7E1B88_Thu_Feb_08_00-31_2018_PST\\data\\1_android.sensor.accelerometer.data.csv.gz\n",
      "processing : Sessions_new\\14442D57F7E1B88_Thu_Feb_08_00-31_2018_PST\\data\\4_android.sensor.gyroscope.data.csv.gz\n",
      "Sessions_new/14442D57F7E1B88_Thu_Feb_08_00-35_2018_PST\\data\n",
      "processing : Sessions_new\\14442D57F7E1B88_Thu_Feb_08_00-35_2018_PST\\data\\1_android.sensor.accelerometer.data.csv.gz\n",
      "processing : Sessions_new\\14442D57F7E1B88_Thu_Feb_08_00-35_2018_PST\\data\\4_android.sensor.gyroscope.data.csv.gz\n",
      "Sessions_new/14442D57F7E1B88_Thu_Feb_08_00-38_2018_PST\\data\n",
      "processing : Sessions_new\\14442D57F7E1B88_Thu_Feb_08_00-38_2018_PST\\data\\1_android.sensor.accelerometer.data.csv.gz\n",
      "processing : Sessions_new\\14442D57F7E1B88_Thu_Feb_08_00-38_2018_PST\\data\\4_android.sensor.gyroscope.data.csv.gz\n",
      "Sessions_new/14442D57F7E1B88_Thu_Feb_08_00-39_2018_PST\\data\n",
      "processing : Sessions_new\\14442D57F7E1B88_Thu_Feb_08_00-39_2018_PST\\data\\1_android.sensor.accelerometer.data.csv.gz\n",
      "processing : Sessions_new\\14442D57F7E1B88_Thu_Feb_08_00-39_2018_PST\\data\\4_android.sensor.gyroscope.data.csv.gz\n",
      "Sessions_new/14442D57F7E1B88_Thu_Feb_08_07-43_2018_PST\\data\n",
      "processing : Sessions_new\\14442D57F7E1B88_Thu_Feb_08_07-43_2018_PST\\data\\1_android.sensor.accelerometer.data.csv.gz\n",
      "processing : Sessions_new\\14442D57F7E1B88_Thu_Feb_08_07-43_2018_PST\\data\\4_android.sensor.gyroscope.data.csv.gz\n",
      "Sessions_new/14442D57F7E1B88_Thu_Feb_08_07-54_2018_PST\\data\n",
      "processing : Sessions_new\\14442D57F7E1B88_Thu_Feb_08_07-54_2018_PST\\data\\1_android.sensor.accelerometer.data.csv.gz\n",
      "processing : Sessions_new\\14442D57F7E1B88_Thu_Feb_08_07-54_2018_PST\\data\\4_android.sensor.gyroscope.data.csv.gz\n",
      "Sessions_new/14442D57F7E1B88_Thu_Feb_08_08-13_2018_PST\\data\n",
      "processing : Sessions_new\\14442D57F7E1B88_Thu_Feb_08_08-13_2018_PST\\data\\1_android.sensor.accelerometer.data.csv.gz\n",
      "processing : Sessions_new\\14442D57F7E1B88_Thu_Feb_08_08-13_2018_PST\\data\\4_android.sensor.gyroscope.data.csv.gz\n",
      "Sessions_new/14442D57F7E1B88_Thu_Feb_08_14-46_2018_PST\\data\n",
      "processing : Sessions_new\\14442D57F7E1B88_Thu_Feb_08_14-46_2018_PST\\data\\1_android.sensor.accelerometer.data.csv.gz\n",
      "processing : Sessions_new\\14442D57F7E1B88_Thu_Feb_08_14-46_2018_PST\\data\\4_android.sensor.gyroscope.data.csv.gz\n",
      "Sessions_new/14442D57F7E1B88_Thu_Feb_08_19-19_2018_PST\\data\n",
      "processing : Sessions_new\\14442D57F7E1B88_Thu_Feb_08_19-19_2018_PST\\data\\1_android.sensor.accelerometer.data.csv.gz\n",
      "processing : Sessions_new\\14442D57F7E1B88_Thu_Feb_08_19-19_2018_PST\\data\\4_android.sensor.gyroscope.data.csv.gz\n",
      "Sessions_new/14442D57F7E1B88_Fri_Feb_09_09-37_2018_PST\\data\n",
      "processing : Sessions_new\\14442D57F7E1B88_Fri_Feb_09_09-37_2018_PST\\data\\1_android.sensor.accelerometer.data.csv.gz\n",
      "processing : Sessions_new\\14442D57F7E1B88_Fri_Feb_09_09-37_2018_PST\\data\\4_android.sensor.gyroscope.data.csv.gz\n",
      "Sessions_new/14442D57F7E1B88_Fri_Feb_09_09-41_2018_PST\\data\n",
      "processing : Sessions_new\\14442D57F7E1B88_Fri_Feb_09_09-41_2018_PST\\data\\1_android.sensor.accelerometer.data.csv.gz\n",
      "processing : Sessions_new\\14442D57F7E1B88_Fri_Feb_09_09-41_2018_PST\\data\\4_android.sensor.gyroscope.data.csv.gz\n",
      "Sessions_new/14442D57F7E1B88_Fri_Feb_09_09-47_2018_PST\\data\n",
      "processing : Sessions_new\\14442D57F7E1B88_Fri_Feb_09_09-47_2018_PST\\data\\1_android.sensor.accelerometer.data.csv.gz\n",
      "processing : Sessions_new\\14442D57F7E1B88_Fri_Feb_09_09-47_2018_PST\\data\\4_android.sensor.gyroscope.data.csv.gz\n",
      "Sessions_new/14442D57F7E1B88_Fri_Feb_09_09-54_2018_PST\\data\n",
      "processing : Sessions_new\\14442D57F7E1B88_Fri_Feb_09_09-54_2018_PST\\data\\1_android.sensor.accelerometer.data.csv.gz\n",
      "processing : Sessions_new\\14442D57F7E1B88_Fri_Feb_09_09-54_2018_PST\\data\\4_android.sensor.gyroscope.data.csv.gz\n",
      "Sessions_new/14442D57F7E1B88_Fri_Feb_09_11-54_2018_PST\\data\n",
      "processing : Sessions_new\\14442D57F7E1B88_Fri_Feb_09_11-54_2018_PST\\data\\1_android.sensor.accelerometer.data.csv.gz\n",
      "processing : Sessions_new\\14442D57F7E1B88_Fri_Feb_09_11-54_2018_PST\\data\\4_android.sensor.gyroscope.data.csv.gz\n",
      "Sessions_new/14442D57F7E1B88_Sun_Feb_11_18-31_2018_PST\\data\n",
      "processing : Sessions_new\\14442D57F7E1B88_Sun_Feb_11_18-31_2018_PST\\data\\1_android.sensor.accelerometer.data.csv.gz\n",
      "processing : Sessions_new\\14442D57F7E1B88_Sun_Feb_11_18-31_2018_PST\\data\\4_android.sensor.gyroscope.data.csv.gz\n",
      "Sessions_new/14442D57F7E1B88_Mon_Feb_12_01-46_2018_PST\\data\n",
      "processing : Sessions_new\\14442D57F7E1B88_Mon_Feb_12_01-46_2018_PST\\data\\1_android.sensor.accelerometer.data.csv.gz\n",
      "processing : Sessions_new\\14442D57F7E1B88_Mon_Feb_12_01-46_2018_PST\\data\\4_android.sensor.gyroscope.data.csv.gz\n",
      "Sessions_new/14442D57F7E1B88_Mon_Feb_12_22-04_2018_PST\\data\n",
      "processing : Sessions_new\\14442D57F7E1B88_Mon_Feb_12_22-04_2018_PST\\data\\1_android.sensor.accelerometer.data.csv.gz\n",
      "processing : Sessions_new\\14442D57F7E1B88_Mon_Feb_12_22-04_2018_PST\\data\\4_android.sensor.gyroscope.data.csv.gz\n",
      "Sessions_new/14442D57F7E1B88_Tue_Feb_13_00-40_2018_PST\\data\n",
      "processing : Sessions_new\\14442D57F7E1B88_Tue_Feb_13_00-40_2018_PST\\data\\1_android.sensor.accelerometer.data.csv.gz\n",
      "processing : Sessions_new\\14442D57F7E1B88_Tue_Feb_13_00-40_2018_PST\\data\\4_android.sensor.gyroscope.data.csv.gz\n",
      "Sessions_new/14442D57F7E1B88_Tue_Feb_13_17-53_2018_PST\\data\n",
      "processing : Sessions_new\\14442D57F7E1B88_Tue_Feb_13_17-53_2018_PST\\data\\1_android.sensor.accelerometer.data.csv.gz\n",
      "processing : Sessions_new\\14442D57F7E1B88_Tue_Feb_13_17-53_2018_PST\\data\\4_android.sensor.gyroscope.data.csv.gz\n",
      "Sessions_new/14442D57F7E1B88_Tue_Feb_13_18-01_2018_PST\\data\n",
      "processing : Sessions_new\\14442D57F7E1B88_Tue_Feb_13_18-01_2018_PST\\data\\1_android.sensor.accelerometer.data.csv.gz\n",
      "processing : Sessions_new\\14442D57F7E1B88_Tue_Feb_13_18-01_2018_PST\\data\\4_android.sensor.gyroscope.data.csv.gz\n",
      "Sessions_new/14442D57F7E1B88_Tue_Feb_13_18-09_2018_PST\\data\n",
      "processing : Sessions_new\\14442D57F7E1B88_Tue_Feb_13_18-09_2018_PST\\data\\1_android.sensor.accelerometer.data.csv.gz\n",
      "processing : Sessions_new\\14442D57F7E1B88_Tue_Feb_13_18-09_2018_PST\\data\\4_android.sensor.gyroscope.data.csv.gz\n",
      "Sessions_new/14442D57F7E1B88_Fri_Feb_16_14-11_2018_PST\\data\n",
      "processing : Sessions_new\\14442D57F7E1B88_Fri_Feb_16_14-11_2018_PST\\data\\1_android.sensor.accelerometer.data.csv.gz\n",
      "processing : Sessions_new\\14442D57F7E1B88_Fri_Feb_16_14-11_2018_PST\\data\\4_android.sensor.gyroscope.data.csv.gz\n",
      "Sessions_new/14442D57F7E1B88_Fri_Feb_16_14-21_2018_PST\\data\n",
      "processing : Sessions_new\\14442D57F7E1B88_Fri_Feb_16_14-21_2018_PST\\data\\1_android.sensor.accelerometer.data.csv.gz\n",
      "processing : Sessions_new\\14442D57F7E1B88_Fri_Feb_16_14-21_2018_PST\\data\\4_android.sensor.gyroscope.data.csv.gz\n",
      "Sessions_new/14442D57F7E1B88_Fri_Feb_16_14-33_2018_PST\\data\n",
      "processing : Sessions_new\\14442D57F7E1B88_Fri_Feb_16_14-33_2018_PST\\data\\1_android.sensor.accelerometer.data.csv.gz\n",
      "processing : Sessions_new\\14442D57F7E1B88_Fri_Feb_16_14-33_2018_PST\\data\\4_android.sensor.gyroscope.data.csv.gz\n",
      "Sessions_new/14442D57F7E1B88_Fri_Feb_16_17-01_2018_PST\\data\n",
      "processing : Sessions_new\\14442D57F7E1B88_Fri_Feb_16_17-01_2018_PST\\data\\1_android.sensor.accelerometer.data.csv.gz\n",
      "processing : Sessions_new\\14442D57F7E1B88_Fri_Feb_16_17-01_2018_PST\\data\\4_android.sensor.gyroscope.data.csv.gz\n",
      "Sessions_new/14442D57F7E1B88_Fri_Feb_16_18-24_2018_PST\\data\n",
      "processing : Sessions_new\\14442D57F7E1B88_Fri_Feb_16_18-24_2018_PST\\data\\1_android.sensor.accelerometer.data.csv.gz\n",
      "processing : Sessions_new\\14442D57F7E1B88_Fri_Feb_16_18-24_2018_PST\\data\\4_android.sensor.gyroscope.data.csv.gz\n",
      "Sessions_new/14442D57F7E1B88_Mon_Feb_26_13-54_2018_PST\\data\n",
      "processing : Sessions_new\\14442D57F7E1B88_Mon_Feb_26_13-54_2018_PST\\data\\1_android.sensor.accelerometer.data.csv.gz\n",
      "processing : Sessions_new\\14442D57F7E1B88_Mon_Feb_26_13-54_2018_PST\\data\\4_android.sensor.gyroscope.data.csv.gz\n",
      "Sessions_new/14442D57F7E1B88_Mon_Feb_26_15-18_2018_PST\\data\n",
      "processing : Sessions_new\\14442D57F7E1B88_Mon_Feb_26_15-18_2018_PST\\data\\1_android.sensor.accelerometer.data.csv.gz\n",
      "processing : Sessions_new\\14442D57F7E1B88_Mon_Feb_26_15-18_2018_PST\\data\\4_android.sensor.gyroscope.data.csv.gz\n",
      "Sessions_new/14442D57F7E1B88_Mon_Feb_26_16-04_2018_PST\\data\n",
      "processing : Sessions_new\\14442D57F7E1B88_Mon_Feb_26_16-04_2018_PST\\data\\1_android.sensor.accelerometer.data.csv.gz\n",
      "processing : Sessions_new\\14442D57F7E1B88_Mon_Feb_26_16-04_2018_PST\\data\\4_android.sensor.gyroscope.data.csv.gz\n",
      "Sessions_new/14442D57F7E1B88_Mon_Feb_26_18-01_2018_PST\\data\n",
      "processing : Sessions_new\\14442D57F7E1B88_Mon_Feb_26_18-01_2018_PST\\data\\1_android.sensor.accelerometer.data.csv.gz\n",
      "processing : Sessions_new\\14442D57F7E1B88_Mon_Feb_26_18-01_2018_PST\\data\\4_android.sensor.gyroscope.data.csv.gz\n",
      "Sessions_new/14442D57F7E1B88_Mon_Feb_26_18-03_2018_PST\\data\n",
      "processing : Sessions_new\\14442D57F7E1B88_Mon_Feb_26_18-03_2018_PST\\data\\1_android.sensor.accelerometer.data.csv.gz\n",
      "processing : Sessions_new\\14442D57F7E1B88_Mon_Feb_26_18-03_2018_PST\\data\\4_android.sensor.gyroscope.data.csv.gz\n",
      "(18845, 7)\n"
     ]
    }
   ],
   "source": [
    "last_dirs = [\"1_android.sensor.accelerometer.data.csv.gz\",\"4_android.sensor.gyroscope.data.csv.gz\"]\n",
    "path = \"Sessions_new/\"\n",
    "dirs = []\n",
    "dir_list = [x[0] for x in os.walk(path)]\n",
    "for each_dir in dir_list[2:]:\n",
    "\n",
    "    if \"data\" in each_dir:\n",
    "    #each_file = os.listdir(each_dir)\n",
    "        dirs.append(each_dir)\n",
    "        \n",
    "\n",
    "\n",
    "dirs.sort(key=lambda x:x[-22:])\n",
    "gy_shapes = []\n",
    "print(dirs[0])\n",
    "#avg_acc_gy = pd.DataFrame(columns = [\"avg_acc_x\",\"avg_acc_y\",\"avg_acc_x\", \"avg_gyroscope_x\",  \"avg_gyroscope_y\",  \"avg_gyroscope_z\",  \"label\"])\n",
    "for i in dirs[0:1]:\n",
    "    #print(i)\n",
    "    full_path_acc = os.path.normpath(i + \"/\" + \"1_android.sensor.accelerometer.data.csv.gz\")\n",
    "    full_path_gy = os.path.normpath(i + \"/\" + \"4_android.sensor.gyroscope.data.csv.gz\")\n",
    "    print(\"processing : \" + full_path_acc)\n",
    "    df_ac = pd.read_csv(full_path_acc, compression='gzip', sep=',', header=None)\n",
    "    df_gy = pd.read_csv(full_path_gy, compression='gzip', sep=',', header=None)\n",
    "    new_df_ac = process_avg_acceleration(df_ac)\n",
    "    new_df_gy = process_avg_gyroscope(df_gy)\n",
    "    #print(new_df_ac.head())\n",
    "    #print(new_df_gy.head())\n",
    "    if new_df_gy.shape[0] < new_df_ac.shape[0]:\n",
    "        new_df_ac = new_df_ac[:new_df_gy.shape[0]]\n",
    "    new_df = pd.concat([new_df_ac,new_df_gy], axis = 1)\n",
    "    #print(new_df.head())   \n",
    "    #print(new_df.shape)\n",
    "    #print(avg_acc_gy.shape)\n",
    "    #gy_shapes.append(new_df.shape)\n",
    "    avg_acc_gy = new_df\n",
    "\n",
    "for i in dirs[1:]:\n",
    "    print(i)\n",
    "    full_path_acc = os.path.normpath(i + \"/\" + \"1_android.sensor.accelerometer.data.csv.gz\")\n",
    "    full_path_gy = os.path.normpath(i + \"/\" + \"4_android.sensor.gyroscope.data.csv.gz\")\n",
    "    if full_path_acc == \"Sessions2\\Sessions2\\14442D57F7E1B88_Mon_Feb_12_18-26_2018_PST\\data\\1_android.sensor.accelerometer.data.csv.gz\":\n",
    "        continue\n",
    "    print(\"processing : \" + full_path_acc)\n",
    "    df_ac = pd.read_csv(full_path_acc, compression='gzip', sep=',', header=None)\n",
    "    print(\"processing : \" + full_path_gy)\n",
    "    df_gy = pd.read_csv(full_path_gy, compression='gzip', sep=',', header=None)\n",
    "    new_df_ac = process_avg_acceleration(df_ac)\n",
    "    new_df_gy = process_avg_gyroscope(df_gy)\n",
    "    #print(new_df_ac.head())\n",
    "    #print(new_df_gy.head())\n",
    "    if new_df_gy.shape[0] < new_df_ac.shape[0]:\n",
    "        new_df_ac = new_df_ac[:new_df_gy.shape[0]]\n",
    "    new_df = pd.concat([new_df_ac,new_df_gy], axis = 1)\n",
    "    #print(new_df.head())   \n",
    "    #print(new_df.shape)\n",
    "    #print(avg_acc_gy.shape)\n",
    "    #gy_shapes.append(new_df.shape)\n",
    "    avg_acc_gy = pd.concat([avg_acc_gy,new_df])\n",
    "\n",
    "\n",
    "print(avg_acc_gy.shape)"
   ]
  },
  {
   "cell_type": "code",
   "execution_count": 9,
   "metadata": {},
   "outputs": [
    {
     "name": "stdout",
     "output_type": "stream",
     "text": [
      "(18845, 7)\n"
     ]
    }
   ],
   "source": [
    "print(avg_acc_gy.shape)"
   ]
  },
  {
   "cell_type": "code",
   "execution_count": 32,
   "metadata": {},
   "outputs": [
    {
     "data": {
      "text/html": [
       "<div>\n",
       "<table border=\"1\" class=\"dataframe\">\n",
       "  <thead>\n",
       "    <tr style=\"text-align: right;\">\n",
       "      <th></th>\n",
       "      <th>avg_acc_x</th>\n",
       "      <th>avg_acc_y</th>\n",
       "      <th>avg_acc_z</th>\n",
       "      <th>avg_gyroscope_x</th>\n",
       "      <th>avg_gyroscope_y</th>\n",
       "      <th>avg_gyroscope_z</th>\n",
       "      <th>label</th>\n",
       "    </tr>\n",
       "  </thead>\n",
       "  <tbody>\n",
       "    <tr>\n",
       "      <th>24</th>\n",
       "      <td>-9.153679</td>\n",
       "      <td>-1.709103</td>\n",
       "      <td>1.236891</td>\n",
       "      <td>-0.396067</td>\n",
       "      <td>-0.135603</td>\n",
       "      <td>0.105942</td>\n",
       "      <td>walking</td>\n",
       "    </tr>\n",
       "    <tr>\n",
       "      <th>25</th>\n",
       "      <td>-9.100262</td>\n",
       "      <td>-2.038733</td>\n",
       "      <td>1.595674</td>\n",
       "      <td>-0.068369</td>\n",
       "      <td>-0.124800</td>\n",
       "      <td>-0.056715</td>\n",
       "      <td>walking</td>\n",
       "    </tr>\n",
       "    <tr>\n",
       "      <th>26</th>\n",
       "      <td>-9.485829</td>\n",
       "      <td>-2.058920</td>\n",
       "      <td>1.795308</td>\n",
       "      <td>0.424886</td>\n",
       "      <td>-0.076625</td>\n",
       "      <td>-0.167118</td>\n",
       "      <td>walking</td>\n",
       "    </tr>\n",
       "  </tbody>\n",
       "</table>\n",
       "</div>"
      ],
      "text/plain": [
       "    avg_acc_x  avg_acc_y  avg_acc_z  avg_gyroscope_x  avg_gyroscope_y  \\\n",
       "24  -9.153679  -1.709103   1.236891        -0.396067        -0.135603   \n",
       "25  -9.100262  -2.038733   1.595674        -0.068369        -0.124800   \n",
       "26  -9.485829  -2.058920   1.795308         0.424886        -0.076625   \n",
       "\n",
       "    avg_gyroscope_z    label  \n",
       "24         0.105942  walking  \n",
       "25        -0.056715  walking  \n",
       "26        -0.167118  walking  "
      ]
     },
     "execution_count": 32,
     "metadata": {},
     "output_type": "execute_result"
    }
   ],
   "source": [
    "avg_a"
   ]
  },
  {
   "cell_type": "code",
   "execution_count": 10,
   "metadata": {},
   "outputs": [],
   "source": [
    "avg_acc_gy = avg_acc_gy.iloc[np.random.permutation(len(avg_acc_gy))]"
   ]
  },
  {
   "cell_type": "code",
   "execution_count": 11,
   "metadata": {},
   "outputs": [
    {
     "data": {
      "text/html": [
       "<div>\n",
       "<table border=\"1\" class=\"dataframe\">\n",
       "  <thead>\n",
       "    <tr style=\"text-align: right;\">\n",
       "      <th></th>\n",
       "      <th>avg_acc_x</th>\n",
       "      <th>avg_acc_y</th>\n",
       "      <th>avg_acc_z</th>\n",
       "      <th>avg_gyroscope_x</th>\n",
       "      <th>avg_gyroscope_y</th>\n",
       "      <th>avg_gyroscope_z</th>\n",
       "      <th>label</th>\n",
       "    </tr>\n",
       "  </thead>\n",
       "  <tbody>\n",
       "    <tr>\n",
       "      <th>48</th>\n",
       "      <td>1.156489</td>\n",
       "      <td>0.511083</td>\n",
       "      <td>-10.034534</td>\n",
       "      <td>1.078438</td>\n",
       "      <td>-0.371504</td>\n",
       "      <td>0.611643</td>\n",
       "      <td>standing</td>\n",
       "    </tr>\n",
       "    <tr>\n",
       "      <th>1594</th>\n",
       "      <td>1.664664</td>\n",
       "      <td>9.298207</td>\n",
       "      <td>1.020589</td>\n",
       "      <td>-0.000462</td>\n",
       "      <td>-0.000491</td>\n",
       "      <td>-0.000688</td>\n",
       "      <td>laying_down</td>\n",
       "    </tr>\n",
       "    <tr>\n",
       "      <th>329</th>\n",
       "      <td>3.689736</td>\n",
       "      <td>-1.186898</td>\n",
       "      <td>8.932744</td>\n",
       "      <td>0.011319</td>\n",
       "      <td>-0.025443</td>\n",
       "      <td>0.097105</td>\n",
       "      <td>standing</td>\n",
       "    </tr>\n",
       "    <tr>\n",
       "      <th>811</th>\n",
       "      <td>-3.055121</td>\n",
       "      <td>8.240125</td>\n",
       "      <td>2.879088</td>\n",
       "      <td>-0.001358</td>\n",
       "      <td>0.000228</td>\n",
       "      <td>-0.000167</td>\n",
       "      <td>laying_down</td>\n",
       "    </tr>\n",
       "    <tr>\n",
       "      <th>938</th>\n",
       "      <td>1.088497</td>\n",
       "      <td>9.488764</td>\n",
       "      <td>-0.652135</td>\n",
       "      <td>0.022427</td>\n",
       "      <td>-0.000187</td>\n",
       "      <td>-0.016226</td>\n",
       "      <td>laying_down</td>\n",
       "    </tr>\n",
       "  </tbody>\n",
       "</table>\n",
       "</div>"
      ],
      "text/plain": [
       "      avg_acc_x  avg_acc_y  avg_acc_z  avg_gyroscope_x  avg_gyroscope_y  \\\n",
       "48     1.156489   0.511083 -10.034534         1.078438        -0.371504   \n",
       "1594   1.664664   9.298207   1.020589        -0.000462        -0.000491   \n",
       "329    3.689736  -1.186898   8.932744         0.011319        -0.025443   \n",
       "811   -3.055121   8.240125   2.879088        -0.001358         0.000228   \n",
       "938    1.088497   9.488764  -0.652135         0.022427        -0.000187   \n",
       "\n",
       "      avg_gyroscope_z        label  \n",
       "48           0.611643     standing  \n",
       "1594        -0.000688  laying_down  \n",
       "329          0.097105     standing  \n",
       "811         -0.000167  laying_down  \n",
       "938         -0.016226  laying_down  "
      ]
     },
     "execution_count": 11,
     "metadata": {},
     "output_type": "execute_result"
    }
   ],
   "source": [
    "avg_acc_gy.head()"
   ]
  },
  {
   "cell_type": "code",
   "execution_count": 12,
   "metadata": {},
   "outputs": [
    {
     "name": "stdout",
     "output_type": "stream",
     "text": [
      "[[ 1.15648939e+00  5.11083103e-01 -1.00345343e+01  1.07843789e+00\n",
      "  -3.71504200e-01  6.11642989e-01]\n",
      " [ 1.66466443e+00  9.29820698e+00  1.02058889e+00 -4.61913359e-04\n",
      "  -4.91397154e-04 -6.87956011e-04]\n",
      " [ 3.68973606e+00 -1.18689781e+00  8.93274398e+00  1.13193334e-02\n",
      "  -2.54432786e-02  9.71054876e-02]\n",
      " [-3.05512066e+00  8.24012528e+00  2.87908769e+00 -1.35845382e-03\n",
      "   2.27524280e-04 -1.67297275e-04]\n",
      " [ 1.08849704e+00  9.48876357e+00 -6.52135015e-01  2.24273660e-02\n",
      "  -1.86730990e-04 -1.62259338e-02]]\n"
     ]
    }
   ],
   "source": [
    "data = avg_acc_gy[[\"avg_acc_x\",\"avg_acc_y\",\"avg_acc_z\",\"avg_gyroscope_x\",\"avg_gyroscope_y\",\"avg_gyroscope_z\"]].as_matrix()\n",
    "print(data[:5])\n",
    "targets = avg_acc_gy[[\"label\"]].as_matrix()"
   ]
  },
  {
   "cell_type": "code",
   "execution_count": 13,
   "metadata": {},
   "outputs": [
    {
     "data": {
      "text/plain": [
       "array(['standing', 'laying_down', 'standing', ..., 'laying_down',\n",
       "       'sitting', 'standing'], dtype=object)"
      ]
     },
     "execution_count": 13,
     "metadata": {},
     "output_type": "execute_result"
    }
   ],
   "source": [
    "cache = {'laying_down' : 0, 'sitting' : 1, 'walking' : 2, 'standing' : 3}\n",
    "targets.reshape(len(targets))"
   ]
  },
  {
   "cell_type": "code",
   "execution_count": 14,
   "metadata": {},
   "outputs": [
    {
     "name": "stdout",
     "output_type": "stream",
     "text": [
      "(18845, 1)\n"
     ]
    }
   ],
   "source": [
    "print(targets.shape)\n",
    "bin_targets = []\n",
    "for i in targets:\n",
    "    #print(i)\n",
    "    bin_targets.append(cache[i[0]])"
   ]
  },
  {
   "cell_type": "code",
   "execution_count": 15,
   "metadata": {},
   "outputs": [
    {
     "data": {
      "text/plain": [
       "[3, 0, 3, 0, 0]"
      ]
     },
     "execution_count": 15,
     "metadata": {},
     "output_type": "execute_result"
    }
   ],
   "source": [
    "bin_targets[:5]"
   ]
  },
  {
   "cell_type": "code",
   "execution_count": 16,
   "metadata": {},
   "outputs": [],
   "source": [
    "clf = DecisionTreeClassifier(random_state=0)"
   ]
  },
  {
   "cell_type": "code",
   "execution_count": 17,
   "metadata": {},
   "outputs": [
    {
     "data": {
      "text/plain": [
       "array([0.89978791, 0.89549072, 0.89602122, 0.89018568, 0.89230769,\n",
       "       0.90875332, 0.89437367, 0.89968153, 0.88794477, 0.89484865])"
      ]
     },
     "execution_count": 17,
     "metadata": {},
     "output_type": "execute_result"
    }
   ],
   "source": [
    "cross_val_score(clf, data, bin_targets, cv=10)"
   ]
  },
  {
   "cell_type": "code",
   "execution_count": 18,
   "metadata": {},
   "outputs": [
    {
     "name": "stdout",
     "output_type": "stream",
     "text": [
      "[[ 1.15648939e+00  5.11083103e-01 -1.00345343e+01  1.07843789e+00\n",
      "  -3.71504200e-01  6.11642989e-01]\n",
      " [ 1.66466443e+00  9.29820698e+00  1.02058889e+00 -4.61913359e-04\n",
      "  -4.91397154e-04 -6.87956011e-04]\n",
      " [ 3.68973606e+00 -1.18689781e+00  8.93274398e+00  1.13193334e-02\n",
      "  -2.54432786e-02  9.71054876e-02]\n",
      " [-3.05512066e+00  8.24012528e+00  2.87908769e+00 -1.35845382e-03\n",
      "   2.27524280e-04 -1.67297275e-04]\n",
      " [ 1.08849704e+00  9.48876357e+00 -6.52135015e-01  2.24273660e-02\n",
      "  -1.86730990e-04 -1.62259338e-02]]\n"
     ]
    },
    {
     "data": {
      "text/plain": [
       "array([0.9088017 , 0.89496021, 0.89496021, 0.90450928, 0.91564987,\n",
       "       0.9066313 , 0.90552017, 0.89968153, 0.90015932, 0.91343601])"
      ]
     },
     "execution_count": 18,
     "metadata": {},
     "output_type": "execute_result"
    }
   ],
   "source": [
    "data_acc = avg_acc_gy[[\"avg_acc_x\",\"avg_acc_y\",\"avg_acc_z\"]].as_matrix()\n",
    "print(data[:5])\n",
    "targets = avg_acc_gy[[\"label\"]].as_matrix()\n",
    "cross_val_score(clf, data_acc, bin_targets, cv=10)"
   ]
  },
  {
   "cell_type": "code",
   "execution_count": 19,
   "metadata": {},
   "outputs": [
    {
     "data": {
      "image/png": "[encoded data removed]",
      "text/plain": [
       "<matplotlib.figure.Figure at 0x251b83c3cf8>"
      ]
     },
     "metadata": {},
     "output_type": "display_data"
    }
   ],
   "source": [
    "plt.hist(bin_targets)\n",
    "plt.show()"
   ]
  },
  {
   "cell_type": "code",
   "execution_count": 20,
   "metadata": {},
   "outputs": [],
   "source": [
    "clf = LogisticRegression()"
   ]
  },
  {
   "cell_type": "code",
   "execution_count": 21,
   "metadata": {},
   "outputs": [
    {
     "data": {
      "text/plain": [
       "array([0.74496288, 0.72519894, 0.72201592, 0.73050398, 0.73474801,\n",
       "       0.74058355, 0.72558386, 0.73036093, 0.73021774, 0.71853425])"
      ]
     },
     "execution_count": 21,
     "metadata": {},
     "output_type": "execute_result"
    }
   ],
   "source": [
    "cross_val_score(clf, data_acc, bin_targets, cv=10)"
   ]
  },
  {
   "cell_type": "code",
   "execution_count": 79,
   "metadata": {},
   "outputs": [
    {
     "name": "stdout",
     "output_type": "stream",
     "text": [
      "[[ 1.20301083e+00  9.35390331e+00 -2.13122411e+00 -1.30294485e-03\n",
      "  -9.58047676e-05 -8.33501487e-04]\n",
      " [-7.76177700e+00 -5.42556269e+00 -6.69809507e-01  7.78985905e-02\n",
      "   1.19696681e-01  9.50048624e-03]\n",
      " [ 7.50540219e+00 -3.20755435e+00  4.61325302e+00 -1.66707500e-03\n",
      "  -1.59013207e-01  5.79530118e-02]\n",
      " [ 1.19015239e+00  9.37106758e+00 -2.03177351e+00 -7.14802205e-04\n",
      "   1.47058825e-12 -2.83962510e-04]\n",
      " [-3.84957035e+00 -5.09591333e+00  6.89115424e+00  3.10164919e-04\n",
      "   1.48339743e-04 -6.74271139e-06]]\n"
     ]
    }
   ],
   "source": [
    "print(data[0:5])"
   ]
  },
  {
   "cell_type": "code",
   "execution_count": 81,
   "metadata": {},
   "outputs": [
    {
     "name": "stdout",
     "output_type": "stream",
     "text": [
      "[0, 3, 3, 0, 1]\n"
     ]
    }
   ],
   "source": [
    "print(bin_targets[0:5])"
   ]
  },
  {
   "cell_type": "code",
   "execution_count": null,
   "metadata": {},
   "outputs": [],
   "source": []
  }
 ],
 "metadata": {
  "kernelspec": {
   "display_name": "Python [default]",
   "language": "python",
   "name": "python3"
  },
  "language_info": {
   "codemirror_mode": {
    "name": "ipython",
    "version": 3
   },
   "file_extension": ".py",
   "mimetype": "text/x-python",
   "name": "python",
   "nbconvert_exporter": "python",
   "pygments_lexer": "ipython3",
   "version": "3.5.2"
  }
 },
 "nbformat": 4,
 "nbformat_minor": 2
}
